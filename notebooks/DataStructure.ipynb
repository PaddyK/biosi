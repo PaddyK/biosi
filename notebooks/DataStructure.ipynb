{
 "cells": [
  {
   "cell_type": "markdown",
   "metadata": {},
   "source": [
    "# Representation of an EMG project as data frame using multi index\n",
    "According to our taxonomy, a experiment is a process after which we are able to accept or reject our hypothesis. So one project does only have one experiment.\n",
    "Each experiment may have multiple sessions. A session is specified through the set-up, the participating subject and the time it takes place, if one of these three attributes is changed we do have a new session. Each session produces one/multiple recordings which in turn consist of multiple trials.\n",
    "So the hierarchy of the index of the rows is as follows:\n",
    "1. setup\n",
    "2. subject\n",
    "3. time\n",
    "4. recording\n",
    "5. trial\n",
    "\n",
    "The hierarchy can be interpreted as follows: For one set-up we have multiple subjects. Each subject might conduct different sessions with this setting. Each of the sessions produces one or many recording which in turn consist of multiple trials.\n",
    "\n",
    "There exists one column holding an ndarray with the data for one trial.\n",
    "\n",
    "I also thought about using a Panel here, but I guess the arrays will have different sizes. The arrays reprsent the modality of the Samples of the setup."
   ]
  },
  {
   "cell_type": "markdown",
   "metadata": {},
   "source": []
  },
  {
   "cell_type": "code",
   "execution_count": 29,
   "metadata": {
    "collapsed": false
   },
   "outputs": [
    {
     "name": "stdout",
     "output_type": "stream",
     "text": [
      "                                       Modality\n",
      "setup  subject time recording  trial           \n",
      "setup1 subj1   KW1  recording1 trial1  0.964112\n",
      "                               trial2  1.035608\n",
      "                               trial3 -0.356863\n",
      "                               trial4  1.204431\n",
      "                               trial5  1.055576\n",
      "                    recording2 trial1 -0.094863\n",
      "                               trial2 -1.039224\n",
      "                               trial3 -0.951583\n",
      "                               trial4  0.511777\n",
      "                               trial5  0.949816\n",
      "               KW2  recording1 trial1 -0.257019\n",
      "                               trial2 -0.027850\n",
      "                               trial3 -0.235775\n",
      "                               trial4 -0.650603\n",
      "                               trial5  1.129101\n",
      "                    recording2 trial1  1.330736\n",
      "                               trial2 -0.073701\n",
      "                               trial3 -0.205957\n",
      "                               trial4 -0.580157\n",
      "                               trial5 -0.443023\n",
      "               KW3  recording1 trial1  1.370944\n",
      "                               trial2 -0.036619\n",
      "                               trial3  0.346290\n",
      "                               trial4 -0.289113\n",
      "                               trial5  0.036851\n",
      "                    recording2 trial1  1.076843\n",
      "                               trial2  0.901903\n",
      "                               trial3 -0.728484\n",
      "                               trial4 -0.652195\n",
      "                               trial5 -1.206409\n",
      "...                                         ...\n",
      "setup2 subj2   KW1  recording1 trial1  1.496069\n",
      "                               trial2  0.964341\n",
      "                               trial3 -0.655210\n",
      "                               trial4 -0.538822\n",
      "                               trial5 -1.116105\n",
      "                    recording2 trial1  0.734086\n",
      "                               trial2 -0.602862\n",
      "                               trial3  0.636413\n",
      "                               trial4  0.386584\n",
      "                               trial5  0.414287\n",
      "               KW2  recording1 trial1  0.699643\n",
      "                               trial2  0.221302\n",
      "                               trial3 -0.778812\n",
      "                               trial4  1.216827\n",
      "                               trial5  2.782556\n",
      "                    recording2 trial1  1.442782\n",
      "                               trial2  0.054149\n",
      "                               trial3 -0.327272\n",
      "                               trial4 -1.652518\n",
      "                               trial5 -1.646987\n",
      "               KW3  recording1 trial1 -0.563902\n",
      "                               trial2 -0.223650\n",
      "                               trial3 -0.223945\n",
      "                               trial4 -0.991033\n",
      "                               trial5  0.782232\n",
      "                    recording2 trial1  0.394501\n",
      "                               trial2  1.246003\n",
      "                               trial3  0.445987\n",
      "                               trial4 -0.050156\n",
      "                               trial5  0.764947\n",
      "\n",
      "[120 rows x 1 columns]\n"
     ]
    }
   ],
   "source": [
    "import pandas as pd\n",
    "import numpy as np\n",
    "\n",
    "row_names = ['setup', 'subject', 'time', 'recording', 'trial']\n",
    "\n",
    "row_index = pd.MultiIndex.from_product([#['exp1','exp2','exp3'],\n",
    "                                     ['setup1','setup2']\n",
    "                                     ,['subj1','subj2']\n",
    "                                     ,['KW1','KW2','KW3']\n",
    "                                     ,['recording1','recording2']\n",
    "                                     ,['trial1','trial2','trial3','trial4','trial5']],\n",
    "                                   names = row_names)\n",
    "col_index = pd.MultiIndex.from_tuples(list(zip(*levels)))\n",
    "\n",
    "df = pd.DataFrame(np.random.randn(120,1), index = row_index, columns=['Modality'])\n",
    "#print df"
   ]
  },
  {
   "cell_type": "markdown",
   "metadata": {},
   "source": [
    "# Representing hierarchy in file system\n",
    "The idea behind this is to not have to explicitly define the index in code. During an experiment a respective folder hierarchy is created: `experiment/setting/subject/time/recording/trial`. Different entities can be indicated through `_something`, for example `setting_1`.\n",
    "The row index can thus be easily be constructed.\n",
    "The column index would need to be inferred from the data or explicitly defined"
   ]
  },
  {
   "cell_type": "markdown",
   "metadata": {},
   "source": [
    "#Analyzation of data"
   ]
  },
  {
   "cell_type": "code",
   "execution_count": 20,
   "metadata": {
    "collapsed": false
   },
   "outputs": [
    {
     "name": "stdout",
     "output_type": "stream",
     "text": [
      "<type 'list'>\n",
      "<type 'list'>\n",
      "\n",
      "investigate first list\n",
      "(12221L, 160L)\n",
      "\n",
      "investigate second array\n",
      "(12221L, 7L)\n",
      "\n",
      "investigating reshaped array\n",
      "(122210L, 16L)\n"
     ]
    }
   ],
   "source": [
    "import cPickle\n",
    "with open('../data/subject1/session_fm/dataset-20140630-1325-FM-1.pkl') as fp:\n",
    "    unpickled = cPickle.load(fp)\n",
    "    print type(unpickled[0])\n",
    "    print type(unpickled[1])\n",
    "    \n",
    "    print '\\ninvestigate first list'\n",
    "    print unpickled[0][0].shape\n",
    "    \n",
    "    print '\\ninvestigate second array'\n",
    "    print unpickled[1][0].shape\n",
    "    \n",
    "    print '\\ninvestigating reshaped array'\n",
    "    print unpickled[0][0].reshape((-1,16)).shape"
   ]
  },
  {
   "cell_type": "code",
   "execution_count": 23,
   "metadata": {
    "collapsed": false
   },
   "outputs": [
    {
     "name": "stdout",
     "output_type": "stream",
     "text": [
      "<type 'list'>\n",
      "<type 'list'>\n",
      "\n",
      "investigate first list\n",
      "(10123L, 160L)\n",
      "\n",
      "investigate second array\n",
      "(10123L, 7L)\n",
      "\n",
      "investigating reshaped array\n",
      "(101230L, 16L)\n"
     ]
    }
   ],
   "source": [
    "import cPickle\n",
    "with open('../data/subject1/session_tgw/dataset-20140630-1401-TGW-2.pkl') as fp:\n",
    "    unpickled = cPickle.load(fp)\n",
    "    print type(unpickled[0])\n",
    "    print type(unpickled[1])\n",
    "    \n",
    "    print '\\ninvestigate first list'\n",
    "    print unpickled[0][0].shape\n",
    "    \n",
    "    print '\\ninvestigate second array'\n",
    "    print unpickled[1][0].shape\n",
    "    \n",
    "    print '\\ninvestigating reshaped array'\n",
    "    print unpickled[0][0].reshape((-1,16)).shape"
   ]
  },
  {
   "cell_type": "code",
   "execution_count": null,
   "metadata": {
    "collapsed": true
   },
   "outputs": [],
   "source": []
  }
 ],
 "metadata": {
  "kernelspec": {
   "display_name": "Python 2",
   "language": "python",
   "name": "python2"
  },
  "language_info": {
   "codemirror_mode": {
    "name": "ipython",
    "version": 2
   },
   "file_extension": ".py",
   "mimetype": "text/x-python",
   "name": "python",
   "nbconvert_exporter": "python",
   "pygments_lexer": "ipython2",
   "version": "2.7.9"
  }
 },
 "nbformat": 4,
 "nbformat_minor": 0
}
