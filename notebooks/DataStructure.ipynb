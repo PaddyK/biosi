{
 "cells": [
  {
   "cell_type": "markdown",
   "metadata": {},
   "source": [
    "# Representation of an EMG project as data frame using multi index\n",
    "According to our taxonomy, a experiment is a process after which we are able to accept or reject our hypothesis. So one project does only have one experiment.\n",
    "Each experiment may have multiple sessions. A session is specified through the set-up, the participating subject and the time it takes place, if one of these three attributes is changed we do have a new session. Each session produces one/multiple recordings which in turn consist of multiple trials.\n",
    "So the hierarchy of the index of the rows is as follows:\n",
    "1. setup\n",
    "2. subject\n",
    "3. time\n",
    "4. recording\n",
    "5. trial\n",
    "\n",
    "The hierarchy can be interpreted as follows: For one set-up we have multiple subjects. Each subject might conduct different sessions with this setting. Each of the sessions produces one or many recording which in turn consist of multiple trials.\n",
    "\n",
    "There exists one column holding an ndarray with the data for one trial.\n",
    "\n",
    "I also thought about using a Panel here, but I guess the arrays will have different sizes. The arrays reprsent the modality of the Samples of the setup."
   ]
  },
  {
   "cell_type": "markdown",
   "metadata": {},
   "source": []
  },
  {
   "cell_type": "code",
   "execution_count": 14,
   "metadata": {
    "collapsed": false
   },
   "outputs": [
    {
     "name": "stdout",
     "output_type": "stream",
     "text": [
      "Experiment: 1 Setups, 3 Sessions, 3 Subjects\n",
      "Subjects:\n",
      "\tTherese\n",
      "\tRobert\n",
      "\tMichael\n",
      "Setups:\n",
      "\tSetup setup0: 2 Modalities, 10 samples/second\n",
      "\t\tModality arm: 2 Samples\n",
      "\t\t\n",
      "\t\tModality leg: 1 Samples\n",
      "\t\t\n",
      "\t\n",
      "Sessions:\n",
      "\tSession session0: Subject Robert, Setting setup0, 1 recordings\n",
      "\t\tRecording recording0: 100s duration, 10 samples, 4 Trials\n",
      "\t\t\tTrial leg_lever: 20.000000s duration, 200 samples\n",
      "\t\t\tTrial squat: 11.000000s duration, 110 samples\n",
      "\t\t\tTrial curl_simple: 10.000000s duration, 100 samples\n",
      "\t\t\tTrial curl_difficult: 12.000000s duration, 120 samples\n",
      "\t\t\n",
      "\t\n",
      "\tSession session1: Subject Therese, Setting setup0, 1 recordings\n",
      "\t\tRecording recording0: 200s duration, 10 samples, 4 Trials\n",
      "\t\t\tTrial leg_lever: 20.000000s duration, 200 samples\n",
      "\t\t\tTrial squat: 11.000000s duration, 110 samples\n",
      "\t\t\tTrial curl_simple: 10.000000s duration, 100 samples\n",
      "\t\t\tTrial curl_difficult: 12.000000s duration, 120 samples\n",
      "\t\t\n",
      "\t\n",
      "\tSession session2: Subject Michael, Setting setup0, 1 recordings\n",
      "\t\tRecording recording0: 300s duration, 10 samples, 4 Trials\n",
      "\t\t\tTrial leg_lever: 20.000000s duration, 200 samples\n",
      "\t\t\tTrial squat: 11.000000s duration, 110 samples\n",
      "\t\t\tTrial curl_simple: 10.000000s duration, 100 samples\n",
      "\t\t\tTrial curl_difficult: 12.000000s duration, 120 samples\n",
      "\t\t\n",
      "\t\n",
      "\n"
     ]
    }
   ],
   "source": [
    "import numpy as np\n",
    "import pandas as pd\n",
    "import os\n",
    "import sys\n",
    "\n",
    "sys.path.append('..')\n",
    "import model.model as model\n",
    "import model.knowledgeBase as kb\n",
    "\n",
    "experiment = kb.createKb()\n",
    "print experiment.recursiveToString()"
   ]
  },
  {
   "cell_type": "code",
   "execution_count": 15,
   "metadata": {
    "collapsed": false
   },
   "outputs": [
    {
     "ename": "AttributeError",
     "evalue": "Experiment instance has no attribute 'getTrial'",
     "output_type": "error",
     "traceback": [
      "\u001b[1;31m---------------------------------------------------------------------------\u001b[0m",
      "\u001b[1;31mAttributeError\u001b[0m                            Traceback (most recent call last)",
      "\u001b[1;32m<ipython-input-15-6294df8ed032>\u001b[0m in \u001b[0;36m<module>\u001b[1;34m()\u001b[0m\n\u001b[1;32m----> 1\u001b[1;33m \u001b[0mtrial\u001b[0m \u001b[1;33m=\u001b[0m \u001b[0mexperiment\u001b[0m\u001b[1;33m.\u001b[0m\u001b[0mgetTrial\u001b[0m\u001b[1;33m(\u001b[0m\u001b[0msession\u001b[0m \u001b[1;33m=\u001b[0m \u001b[1;34m'session1'\u001b[0m\u001b[1;33m,\u001b[0m \u001b[0mrecording\u001b[0m \u001b[1;33m=\u001b[0m \u001b[1;34m'recording0'\u001b[0m\u001b[1;33m,\u001b[0m \u001b[0mtrial\u001b[0m \u001b[1;33m=\u001b[0m \u001b[1;34m'squat'\u001b[0m\u001b[1;33m)\u001b[0m\u001b[1;33m\u001b[0m\u001b[0m\n\u001b[0m\u001b[0;32m      2\u001b[0m \u001b[1;32mprint\u001b[0m \u001b[0mtrial\u001b[0m\u001b[1;33m.\u001b[0m\u001b[0mData\u001b[0m\u001b[1;33m\u001b[0m\u001b[0m\n",
      "\u001b[1;31mAttributeError\u001b[0m: Experiment instance has no attribute 'getTrial'"
     ]
    }
   ],
   "source": [
    "trial = experiment.getTrial(session = 'session1', recording = 'recording0', trial = 'squat')\n",
    "print trial.Data"
   ]
  },
  {
   "cell_type": "code",
   "execution_count": null,
   "metadata": {
    "collapsed": true
   },
   "outputs": [],
   "source": []
  },
  {
   "cell_type": "code",
   "execution_count": null,
   "metadata": {
    "collapsed": false
   },
   "outputs": [],
   "source": []
  },
  {
   "cell_type": "code",
   "execution_count": null,
   "metadata": {
    "collapsed": false
   },
   "outputs": [],
   "source": []
  },
  {
   "cell_type": "code",
   "execution_count": null,
   "metadata": {
    "collapsed": true
   },
   "outputs": [],
   "source": []
  }
 ],
 "metadata": {
  "kernelspec": {
   "display_name": "Python 2",
   "language": "python",
   "name": "python2"
  },
  "language_info": {
   "codemirror_mode": {
    "name": "ipython",
    "version": 2
   },
   "file_extension": ".py",
   "mimetype": "text/x-python",
   "name": "python",
   "nbconvert_exporter": "python",
   "pygments_lexer": "ipython2",
   "version": "2.7.6"
  }
 },
 "nbformat": 4,
 "nbformat_minor": 0
}
